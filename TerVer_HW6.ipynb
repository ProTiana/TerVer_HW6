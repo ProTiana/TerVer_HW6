{
 "cells": [
  {
   "cell_type": "code",
   "execution_count": 2,
   "id": "4244d028",
   "metadata": {},
   "outputs": [
    {
     "data": {
      "text/plain": [
       "(81.96, 78.04)"
      ]
     },
     "execution_count": 2,
     "metadata": {},
     "output_type": "execute_result"
    }
   ],
   "source": [
    "#Задача 1. Сигма ген совокупности известна, считаем критерий Z\n",
    "import numpy as np\n",
    "from scipy import stats\n",
    "\n",
    "sima=16\n",
    "z=1.96\n",
    "m=80\n",
    "n=256\n",
    "t1=m+(z*16/np.sqrt(n))\n",
    "t2=m-(z*16/np.sqrt(n))\n",
    "t1, t2"
   ]
  },
  {
   "cell_type": "code",
   "execution_count": 3,
   "id": "4d5fd23f",
   "metadata": {},
   "outputs": [],
   "source": [
    "#Задача2. Сигма ген совокупности неизвестна, считаем критерий t\n",
    "x=np.array([6.9, 6.1, 6.2, 6.8, 7.5, 6.3, 6.4, 6.9, 6.7, 6.1])"
   ]
  },
  {
   "cell_type": "code",
   "execution_count": 5,
   "id": "bc007a39",
   "metadata": {},
   "outputs": [
    {
     "data": {
      "text/plain": [
       "6.590000000000001"
      ]
     },
     "execution_count": 5,
     "metadata": {},
     "output_type": "execute_result"
    }
   ],
   "source": [
    "#найдем среднее по выборке\n",
    "x_mean=np.mean(x)\n",
    "x_mean"
   ]
  },
  {
   "cell_type": "code",
   "execution_count": 6,
   "id": "16c610d8",
   "metadata": {},
   "outputs": [
    {
     "data": {
      "text/plain": [
       "0.2032222222222223"
      ]
     },
     "execution_count": 6,
     "metadata": {},
     "output_type": "execute_result"
    }
   ],
   "source": [
    "#найдем дисперсию\n",
    "d_x=np.var(x,ddof=1)\n",
    "d_x"
   ]
  },
  {
   "cell_type": "code",
   "execution_count": 7,
   "id": "da1daabc",
   "metadata": {},
   "outputs": [
    {
     "data": {
      "text/plain": [
       "2.2621571627409915"
      ]
     },
     "execution_count": 7,
     "metadata": {},
     "output_type": "execute_result"
    }
   ],
   "source": [
    "#найдем критерий стьюдента для доверительного интервала 95%, кол-во степеней  сравнения 10-1=9\n",
    "t=stats.t.ppf(0.975,9)\n",
    "t"
   ]
  },
  {
   "cell_type": "code",
   "execution_count": 8,
   "id": "bb39e48a",
   "metadata": {},
   "outputs": [
    {
     "data": {
      "text/plain": [
       "6.735376420109696"
      ]
     },
     "execution_count": 8,
     "metadata": {},
     "output_type": "execute_result"
    }
   ],
   "source": [
    "#найдем верхнюю границу интервала\n",
    "t1=x_mean+t*d_x/np.sqrt(10)\n",
    "t1"
   ]
  },
  {
   "cell_type": "code",
   "execution_count": 9,
   "id": "aa8d9615",
   "metadata": {},
   "outputs": [
    {
     "data": {
      "text/plain": [
       "6.4446235798903055"
      ]
     },
     "execution_count": 9,
     "metadata": {},
     "output_type": "execute_result"
    }
   ],
   "source": [
    "#найдем нижнюю границу интервала\n",
    "t2=x_mean-t*d_x/np.sqrt(10)\n",
    "t2"
   ]
  },
  {
   "cell_type": "code",
   "execution_count": null,
   "id": "4cdeba28",
   "metadata": {},
   "outputs": [],
   "source": []
  }
 ],
 "metadata": {
  "kernelspec": {
   "display_name": "Python 3 (ipykernel)",
   "language": "python",
   "name": "python3"
  },
  "language_info": {
   "codemirror_mode": {
    "name": "ipython",
    "version": 3
   },
   "file_extension": ".py",
   "mimetype": "text/x-python",
   "name": "python",
   "nbconvert_exporter": "python",
   "pygments_lexer": "ipython3",
   "version": "3.9.13"
  }
 },
 "nbformat": 4,
 "nbformat_minor": 5
}
