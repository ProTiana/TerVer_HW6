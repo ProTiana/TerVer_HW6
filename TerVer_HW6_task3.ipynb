{
 "cells": [
  {
   "cell_type": "code",
   "execution_count": 1,
   "id": "0d825406",
   "metadata": {},
   "outputs": [
    {
     "data": {
      "text/plain": [
       "(array([178, 165, 165, 173, 168, 155, 160, 164, 178, 175]),\n",
       " array([175, 167, 154, 174, 178, 148, 160, 167, 169, 170]))"
      ]
     },
     "execution_count": 1,
     "metadata": {},
     "output_type": "execute_result"
    }
   ],
   "source": [
    "#Задача 3. Используя эти данные построить 95% доверительный интервал для разности среднего\n",
    "#роста родителей и детей.\n",
    "\n",
    "import numpy as np\n",
    "from scipy import stats\n",
    "\n",
    "mothers = np.array([178, 165, 165, 173, 168, 155, 160, 164, 178, 175])\n",
    "daughters = np.array([175, 167, 154, 174, 178, 148, 160, 167, 169, 170])\n",
    "mothers, daughters"
   ]
  },
  {
   "cell_type": "code",
   "execution_count": 2,
   "id": "17e9f5aa",
   "metadata": {},
   "outputs": [
    {
     "data": {
      "text/plain": [
       "(166.2, 168.1)"
      ]
     },
     "execution_count": 2,
     "metadata": {},
     "output_type": "execute_result"
    }
   ],
   "source": [
    "#найдем среднее по выборкам\n",
    "m_mean=np.mean(mothers)\n",
    "d_mean=np.mean(daughters)\n",
    "d_mean, m_mean"
   ]
  },
  {
   "cell_type": "code",
   "execution_count": 3,
   "id": "9a3ab571",
   "metadata": {},
   "outputs": [
    {
     "data": {
      "text/plain": [
       "(60.10000000000001, 91.06666666666666)"
      ]
     },
     "execution_count": 3,
     "metadata": {},
     "output_type": "execute_result"
    }
   ],
   "source": [
    "#найдем несмещенную дисперсию в выборках\n",
    "d_var=np.var(daughters, ddof=1)\n",
    "m_var=np.var(mothers, ddof=1)\n",
    "m_var, d_var"
   ]
  },
  {
   "cell_type": "code",
   "execution_count": 4,
   "id": "d3db445f",
   "metadata": {},
   "outputs": [
    {
     "data": {
      "text/plain": [
       "(10, 10)"
      ]
     },
     "execution_count": 4,
     "metadata": {},
     "output_type": "execute_result"
    }
   ],
   "source": [
    "#найдем кол-во элементов в выборке\n",
    "m_len=len(mothers)\n",
    "d_len=len(daughters)\n",
    "m_len, d_len"
   ]
  },
  {
   "cell_type": "code",
   "execution_count": 5,
   "id": "7aaec2ef",
   "metadata": {},
   "outputs": [
    {
     "data": {
      "text/plain": [
       "1.9000000000000057"
      ]
     },
     "execution_count": 5,
     "metadata": {},
     "output_type": "execute_result"
    }
   ],
   "source": [
    "#найдем дельту разности средних\n",
    "delta=m_mean-d_mean\n",
    "delta"
   ]
  },
  {
   "cell_type": "code",
   "execution_count": 6,
   "id": "785b4c8b",
   "metadata": {},
   "outputs": [
    {
     "data": {
      "text/plain": [
       "75.58333333333334"
      ]
     },
     "execution_count": 6,
     "metadata": {},
     "output_type": "execute_result"
    }
   ],
   "source": [
    "#найдем общую дисперсию по выборкам\n",
    "D=(d_var+m_var)/2\n",
    "D"
   ]
  },
  {
   "cell_type": "code",
   "execution_count": 10,
   "id": "445aa93d",
   "metadata": {},
   "outputs": [
    {
     "data": {
      "text/plain": [
       "3.8880157750022915"
      ]
     },
     "execution_count": 10,
     "metadata": {},
     "output_type": "execute_result"
    }
   ],
   "source": [
    "#Найдем стандартную ошибку разницы средних\n",
    "SE=np.sqrt(D/m_len+D/d_len)\n",
    "SE"
   ]
  },
  {
   "cell_type": "code",
   "execution_count": 11,
   "id": "0e90691c",
   "metadata": {},
   "outputs": [
    {
     "data": {
      "text/plain": [
       "2.10092204024096"
      ]
     },
     "execution_count": 11,
     "metadata": {},
     "output_type": "execute_result"
    }
   ],
   "source": [
    "#Сигма ген совокупности неизвестна, считаем критерий t 95%, кол-во степеней сравнения=2*(n-1)\n",
    "t=stats.t.ppf(0.975,18)\n",
    "t"
   ]
  },
  {
   "cell_type": "code",
   "execution_count": 12,
   "id": "5a64fb60",
   "metadata": {},
   "outputs": [
    {
     "data": {
      "text/plain": [
       "(-6.268418034506846, 10.068418034506857)"
      ]
     },
     "execution_count": 12,
     "metadata": {},
     "output_type": "execute_result"
    }
   ],
   "source": [
    "#Найдем интервал для выборок\n",
    "t1=delta-t*SE\n",
    "t2=delta+t*SE\n",
    "t1, t2"
   ]
  },
  {
   "cell_type": "code",
   "execution_count": null,
   "id": "5c44961d",
   "metadata": {},
   "outputs": [],
   "source": []
  }
 ],
 "metadata": {
  "kernelspec": {
   "display_name": "Python 3 (ipykernel)",
   "language": "python",
   "name": "python3"
  },
  "language_info": {
   "codemirror_mode": {
    "name": "ipython",
    "version": 3
   },
   "file_extension": ".py",
   "mimetype": "text/x-python",
   "name": "python",
   "nbconvert_exporter": "python",
   "pygments_lexer": "ipython3",
   "version": "3.9.13"
  }
 },
 "nbformat": 4,
 "nbformat_minor": 5
}
